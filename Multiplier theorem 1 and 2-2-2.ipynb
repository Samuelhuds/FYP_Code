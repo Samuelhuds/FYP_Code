{
 "cells": [
  {
   "cell_type": "code",
   "execution_count": 19,
   "id": "95224837",
   "metadata": {},
   "outputs": [
    {
     "ename": "ImportError",
     "evalue": "cannot import name 'lcm' from 'math' (/Users/Philia/opt/anaconda3/lib/python3.8/lib-dynload/math.cpython-38-darwin.so)",
     "output_type": "error",
     "traceback": [
      "\u001b[0;31m---------------------------------------------------------------------------\u001b[0m",
      "\u001b[0;31mImportError\u001b[0m                               Traceback (most recent call last)",
      "\u001b[0;32m<ipython-input-19-baccf47605af>\u001b[0m in \u001b[0;36m<module>\u001b[0;34m\u001b[0m\n\u001b[1;32m      1\u001b[0m \u001b[0;32mimport\u001b[0m \u001b[0mmath\u001b[0m\u001b[0;34m\u001b[0m\u001b[0;34m\u001b[0m\u001b[0m\n\u001b[0;32m----> 2\u001b[0;31m \u001b[0;32mfrom\u001b[0m \u001b[0mmath\u001b[0m \u001b[0;32mimport\u001b[0m \u001b[0msqrt\u001b[0m\u001b[0;34m,\u001b[0m\u001b[0mlcm\u001b[0m\u001b[0;34m\u001b[0m\u001b[0;34m\u001b[0m\u001b[0m\n\u001b[0m\u001b[1;32m      3\u001b[0m \u001b[0mv\u001b[0m \u001b[0;34m=\u001b[0m \u001b[0mint\u001b[0m\u001b[0;34m\u001b[0m\u001b[0;34m\u001b[0m\u001b[0m\n\u001b[1;32m      4\u001b[0m \u001b[0mk\u001b[0m \u001b[0;34m=\u001b[0m \u001b[0mint\u001b[0m\u001b[0;34m\u001b[0m\u001b[0;34m\u001b[0m\u001b[0m\n\u001b[1;32m      5\u001b[0m \u001b[0ml\u001b[0m \u001b[0;34m=\u001b[0m \u001b[0mint\u001b[0m\u001b[0;34m\u001b[0m\u001b[0;34m\u001b[0m\u001b[0m\n",
      "\u001b[0;31mImportError\u001b[0m: cannot import name 'lcm' from 'math' (/Users/Philia/opt/anaconda3/lib/python3.8/lib-dynload/math.cpython-38-darwin.so)"
     ]
    }
   ],
   "source": [
    "import math\n",
    "from math import sqrt\n",
    "v = int\n",
    "k = int\n",
    "l = int\n",
    "n = int\n",
    "num = int\n",
    "m = int\n",
    "z = int\n",
    "t = int\n",
    "prime = int\n",
    "\n",
    "\n",
    "#primes(num) is a function that takes an integer num as input and returns the list of primes less or equal than num. \n",
    "#Referernce for the primes function: https://www.codegrepper.com/code-examples/python/find+prime+numbers+in+a+range+python\n",
    "def primes(num):\n",
    "    q = []\n",
    "    for j in range(1,num + 1):\n",
    "        if j > 1:            \n",
    "            for i in range(2, j):\n",
    "                if (j % i) == 0:\n",
    "                    break\n",
    "            else:\n",
    "                q.append(j)\n",
    "    return(q)\n",
    "\n",
    "#MultiplierTheorem1 is a function that takes a triple(v,k,lambda) as input and returns a list of its numerical multipliers using the \n",
    "#First Multiplier Theorem. Note the function itself can take any triple as input but in practice the triples must first \n",
    "#pass the basic equation and the BRC test.\n",
    "def MultiplierTheorem1(v,k,l):\n",
    "    p = []\n",
    "    n = k-l\n",
    "    q = primes(n)\n",
    "    for i in q:\n",
    "#Checking if a prime i satisfies the conditions for being a numerical multiplier for (v,k,lambda). \n",
    "#it is a conjecture that the condition i>l is not necessary. But for rigorousness we still need to check it.\n",
    "        if (i > l) and (n % i == 0) and (v % i != 0):\n",
    "                p.append(i)\n",
    "    return p\n"
   ]
  },
  {
   "cell_type": "code",
   "execution_count": null,
   "id": "ef638991",
   "metadata": {},
   "outputs": [],
   "source": []
  },
  {
   "cell_type": "code",
   "execution_count": 3,
   "id": "75a70086",
   "metadata": {},
   "outputs": [],
   "source": [
    "#primes_factors(num) is a function that takes an integer num as input and returns a list of primes that divides num.\n",
    "##Referernce: https://www.codegrepper.com/code-examples/python/find+prime+numbers+in+a+range+python\n",
    "def primes_factors(num):\n",
    "    q = []\n",
    "    for j in range(1,num + 1):\n",
    "        if j > 1 and num%j == 0:            \n",
    "            for i in range(2, j):\n",
    "                if (j % i) == 0:\n",
    "                    break\n",
    "            else:\n",
    "                q.append(j)\n",
    "    return(q)\n",
    "\n",
    "#coprime_list(num) is a function that take an integer num as input and returns a list of numbers less than and coprime with num\n",
    "def coprime_list(num):\n",
    "    t = []\n",
    "    for i in range(0,num):\n",
    "        if math.gcd(i,num) == 1:\n",
    "            t.append(i)\n",
    "    return t\n",
    "            \n",
    "\n",
    "#MultiplierTheorem2 is a function that takes a triple(v,k,lambda) as input and returns a list of its numerical multipliers using the \n",
    "#Second Multiplier Theorem. It ONLY works for cyclic group!\n",
    "def MultiplierTheorem2(v,k,l):\n",
    "    r = []\n",
    "    n = k-l\n",
    "    #iterates through range of values from lambda plus one to n\n",
    "    for m in range(l+1, n+1):\n",
    "        #checks if m is a divisor of n and if m is coprime with v\n",
    "        if (n%m == 0) and (math.gcd(m,v)==1):\n",
    "            #q_list is a list of primes that divides m and t_list is list of integers coprime with v. \n",
    "            #Since we are looking for numerical multiplier, WLOG we assume the elements in t_list are less than v. \n",
    "            q_list = primes_factors(m)\n",
    "            t_list = coprime_list(v)\n",
    "            for t in t_list:\n",
    "                count = 0\n",
    "                #Check every p in q_list for a fixed t rather than check for some p and for some t. \n",
    "                while count < len(q_list):\n",
    "                    count1 = count\n",
    "                    p = q_list[count]\n",
    "                    #if coprime it iterates through a list of numbers to see if any of them pass the condition\n",
    "                    #We only need to check k from 1 to v-1. Since we are working on cyclic group Z_n, the non-identity\n",
    "                    #elements of Z_n form a multiplicative group and thus its each element has order less than v. \n",
    "                    for f in range(1,v):\n",
    "                        if t%v != p**f %v:\n",
    "                            count = len(q_list) + 1\n",
    "                        else:\n",
    "                            count = count1 + 1 \n",
    "                            break\n",
    "                if count == len(q_list):\n",
    "                    r.append(t)\n",
    "    return r\n",
    "                    \n",
    "                    \n",
    "    \n",
    "            "
   ]
  },
  {
   "cell_type": "code",
   "execution_count": 28,
   "id": "84f92f62",
   "metadata": {},
   "outputs": [
    {
     "data": {
      "text/plain": [
       "[1, 2, 4, 8]"
      ]
     },
     "execution_count": 28,
     "metadata": {},
     "output_type": "execute_result"
    }
   ],
   "source": [
    "MultiplierTheorem2(15,7,3)"
   ]
  },
  {
   "cell_type": "code",
   "execution_count": 30,
   "id": "215ba10c",
   "metadata": {},
   "outputs": [
    {
     "data": {
      "text/plain": [
       "[1, 4, 5, 6, 7, 9, 11, 16, 17]"
      ]
     },
     "execution_count": 30,
     "metadata": {},
     "output_type": "execute_result"
    }
   ],
   "source": [
    "#Note a (19,9,4) difference exsits. So its complement (19,10,5) exists. If we use the second multiplier theorem,\n",
    "#we can find a group of multiplier for (19,9,4) but none for (19,10,5). \n",
    "MultiplierTheorem2(19,9,4)"
   ]
  },
  {
   "cell_type": "code",
   "execution_count": 31,
   "id": "0f4f8e59",
   "metadata": {},
   "outputs": [
    {
     "data": {
      "text/plain": [
       "[]"
      ]
     },
     "execution_count": 31,
     "metadata": {},
     "output_type": "execute_result"
    }
   ],
   "source": [
    "MultiplierTheorem2(19,10,5)"
   ]
  },
  {
   "cell_type": "code",
   "execution_count": 34,
   "id": "352e8152",
   "metadata": {},
   "outputs": [
    {
     "data": {
      "text/plain": [
       "[1, 2, 3, 4, 6, 8, 9, 12, 13, 16, 18]"
      ]
     },
     "execution_count": 34,
     "metadata": {},
     "output_type": "execute_result"
    }
   ],
   "source": [
    "MultiplierTheorem2(23,11,5)"
   ]
  },
  {
   "cell_type": "code",
   "execution_count": 36,
   "id": "1ac90bd8",
   "metadata": {},
   "outputs": [
    {
     "data": {
      "text/plain": [
       "[1, 2, 3, 4, 5, 6, 7, 8, 9, 10, 11, 12, 13, 14, 15, 16, 17, 18, 19, 20, 21, 22]"
      ]
     },
     "execution_count": 36,
     "metadata": {},
     "output_type": "execute_result"
    }
   ],
   "source": [
    "#The number of numerical multpliers for (23,11,5) using second multplier theorem is 11. The order of automorphism group is len(coprime_list(23))=22.\n",
    "#The set of all numerical multipliers is a subgroup of the automorphism group of G. Indeed, in this case 11|22.\n",
    "#Though it is not guarentee here we find all multiplier for Z_23. \n",
    "coprime_list(23)"
   ]
  },
  {
   "cell_type": "code",
   "execution_count": 45,
   "id": "9be34024",
   "metadata": {},
   "outputs": [
    {
     "data": {
      "text/plain": [
       "[1, 2, 4, 8, 16]"
      ]
     },
     "execution_count": 45,
     "metadata": {},
     "output_type": "execute_result"
    }
   ],
   "source": [
    "#Second multiplier works but the first does not\n",
    "MultiplierTheorem2(31,15,7)"
   ]
  },
  {
   "cell_type": "code",
   "execution_count": 44,
   "id": "de364974",
   "metadata": {},
   "outputs": [
    {
     "data": {
      "text/plain": [
       "[]"
      ]
     },
     "execution_count": 44,
     "metadata": {},
     "output_type": "execute_result"
    }
   ],
   "source": [
    "MultiplierTheorem1(31,15,7)"
   ]
  },
  {
   "cell_type": "code",
   "execution_count": 5,
   "id": "1f4febcf",
   "metadata": {},
   "outputs": [
    {
     "data": {
      "text/plain": [
       "[1, 3, 9, 20, 27, 34, 41, 52, 58, 60, 1, 3, 9, 20, 27, 34, 41, 52, 58, 60]"
      ]
     },
     "execution_count": 5,
     "metadata": {},
     "output_type": "execute_result"
    }
   ],
   "source": [
    "MultiplierTheorem2(61,16,4)"
   ]
  },
  {
   "cell_type": "code",
   "execution_count": 58,
   "id": "97eb9e25",
   "metadata": {},
   "outputs": [],
   "source": [
    "#orbit(x,n,t) computes he orbit of x in Z_n under the action of the group generated by a numerical multplier phi_t\n",
    "def orbit(x,n,t):\n",
    "    list_1 = [x]\n",
    "    while True:\n",
    "        if t*list_1[-1] % n == x:\n",
    "            return list_1\n",
    "        else:\n",
    "            list_1.append(t*list_1[-1] % n)\n",
    "\n",
    "#orbit_cyclic(n,t) computes the orbits of Z_n under the action of the group generated by a numerical multplier phi_t\n",
    "def orbit_cyclic(n,t):\n",
    "    list1 = list(range(n))\n",
    "    lists = [] #lists will contain the orbits\n",
    "    sizes = []\n",
    "    while len(list1):\n",
    "            i = list1[0]\n",
    "            list2 = orbit(i,n,t)\n",
    "            lists.append(list2)\n",
    "            sizes.append(len(list2))\n",
    "            list1 = [x for x in list1 if x not in list2]\n",
    "            if len(list1) == 0:\n",
    "                break\n",
    "    return lists,sizes"
   ]
  },
  {
   "cell_type": "code",
   "execution_count": 59,
   "id": "9f3e1526",
   "metadata": {},
   "outputs": [
    {
     "data": {
      "text/plain": [
       "([[0],\n",
       "  [1, 3, 9, 27, 20, 60, 58, 52, 34, 41],\n",
       "  [2, 6, 18, 54, 40, 59, 55, 43, 7, 21],\n",
       "  [4, 12, 36, 47, 19, 57, 49, 25, 14, 42],\n",
       "  [5, 15, 45, 13, 39, 56, 46, 16, 48, 22],\n",
       "  [8, 24, 11, 33, 38, 53, 37, 50, 28, 23],\n",
       "  [10, 30, 29, 26, 17, 51, 31, 32, 35, 44]],\n",
       " [1, 10, 10, 10, 10, 10, 10])"
      ]
     },
     "execution_count": 59,
     "metadata": {},
     "output_type": "execute_result"
    }
   ],
   "source": [
    "orbit_cyclic(61,3)"
   ]
  },
  {
   "cell_type": "code",
   "execution_count": null,
   "id": "4ed91b4e",
   "metadata": {},
   "outputs": [],
   "source": []
  },
  {
   "cell_type": "code",
   "execution_count": null,
   "id": "5ded367c",
   "metadata": {},
   "outputs": [],
   "source": []
  }
 ],
 "metadata": {
  "kernelspec": {
   "display_name": "Python 3",
   "language": "python",
   "name": "python3"
  },
  "language_info": {
   "codemirror_mode": {
    "name": "ipython",
    "version": 3
   },
   "file_extension": ".py",
   "mimetype": "text/x-python",
   "name": "python",
   "nbconvert_exporter": "python",
   "pygments_lexer": "ipython3",
   "version": "3.8.8"
  }
 },
 "nbformat": 4,
 "nbformat_minor": 5
}

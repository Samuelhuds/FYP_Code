{
 "cells": [
  {
   "cell_type": "markdown",
   "id": "3bed239d",
   "metadata": {},
   "source": [
    "### Final year project - Multipliers for difference sets\n",
    "Samuel Hudson and Lijun Zou<br/>\n",
    "NUI Galway"
   ]
  },
  {
   "cell_type": "markdown",
   "id": "b91cf6dc",
   "metadata": {},
   "source": [
    "## 1. Parameters of difference sets.\n",
    "Let $G$ be a finite group of order $v$. A non-empty subset $D\\subset G$ of size $k<v$ is a $(v,k,\\lambda)$-**difference set** if each element of $G\\setminus \\{1_G\\}$ occurs exactly $\\lambda$ times in the the multiset \n",
    "    $$\n",
    "    \\Delta(D) = \\{\n",
    "    d_1{d_2}^{-1}\\mid \n",
    "    d_1,d_2 \\in D, d_1 \\neq d_2 \\}.$$"
   ]
  },
  {
   "cell_type": "markdown",
   "id": "a3f89fc5",
   "metadata": {},
   "source": [
    "We first write a function checking difference sets in cyclic groups."
   ]
  },
  {
   "cell_type": "code",
   "execution_count": 99,
   "id": "d708f85e",
   "metadata": {},
   "outputs": [],
   "source": [
    "import math,time,itertools  #import the libraries we are going to use\n",
    "from math import sqrt"
   ]
  },
  {
   "cell_type": "code",
   "execution_count": 88,
   "id": "45cf03bd",
   "metadata": {},
   "outputs": [],
   "source": [
    "#difference_set(l,n) returns True if elements in the list l form a difference set in Z_n\n",
    "def difference_set(l,n):\n",
    "    delta = [] #multiset of differences\n",
    "    for i in l:\n",
    "        for j in l:\n",
    "            delta.append((i-j)%n)\n",
    "    l = delta.count(1)        \n",
    "    for i in range(2,n):\n",
    "        if not delta.count(i) == l:\n",
    "            return False\n",
    "    return True"
   ]
  },
  {
   "cell_type": "code",
   "execution_count": 89,
   "id": "16b2ce67",
   "metadata": {},
   "outputs": [
    {
     "name": "stdout",
     "output_type": "stream",
     "text": [
      "True\n",
      "False\n"
     ]
    }
   ],
   "source": [
    "print(difference_set([1,2,4],7)) #Example 1.2\n",
    "print(difference_set([1,2,3],7)) #Example 1.2"
   ]
  },
  {
   "cell_type": "markdown",
   "id": "e59703d3",
   "metadata": {},
   "source": [
    "We can generalise difference_set() function to direct product of cyclic groups"
   ]
  },
  {
   "cell_type": "markdown",
   "id": "ed960309",
   "metadata": {},
   "source": [
    "Direct product of two cyclic groups:"
   ]
  },
  {
   "cell_type": "code",
   "execution_count": 86,
   "id": "1ffe43ee",
   "metadata": {},
   "outputs": [],
   "source": [
    "# subtraction_tuples defines subtraction of elements in Z_n x Z_m\n",
    "def subtraction_tuples(tuple1, tuple2, n,m):\n",
    "    x,y = tuple1\n",
    "    z,w = tuple2\n",
    "    return (x-z)%n,(y-w)%m\n",
    "\n",
    "\n",
    "#tuples(n,m) returns a list of all elements in Z_n x Z_m\n",
    "def tuples(n,m):\n",
    "    list1 = []\n",
    "    for i in range(n):\n",
    "        for j in range(m):\n",
    "            list1.append((i,j))\n",
    "    return list1\n",
    "\n",
    "\n",
    "#difference_set(l,n,m) returns True if elements in the list l form a difference set in Z_n x Z_m\n",
    "def difference_set_tuples(l,n,m): #l is a list of tuples\n",
    "    delta = [] #multiset of differences\n",
    "    for i in l:\n",
    "        for j in l:\n",
    "            delta.append(subtraction_tuples(i,j,n,m)) \n",
    "    l = delta.count((1,0)) #number of times (1,0) appears in delta \n",
    "    ele = tuples(n,m) #all elements in the group Z_n X Z_m\n",
    "    for i in ele[1:]: #check each non-identity elements appear same number of times\n",
    "        if not delta.count(i) == l: \n",
    "            return False\n",
    "    return True"
   ]
  },
  {
   "cell_type": "code",
   "execution_count": 87,
   "id": "36141869",
   "metadata": {},
   "outputs": [
    {
     "data": {
      "text/plain": [
       "True"
      ]
     },
     "execution_count": 87,
     "metadata": {},
     "output_type": "execute_result"
    }
   ],
   "source": [
    "difference_set_tuples([(0,0),(0,1),(0,2),(0,5),(1,0),(1,6)],2,8) #a difference set in Z_2 x Z_8"
   ]
  },
  {
   "cell_type": "markdown",
   "id": "92d4d2d7",
   "metadata": {},
   "source": [
    "The above functions can be generalised to direct product of three cyclic groups by adding a parameter to each function. "
   ]
  },
  {
   "cell_type": "code",
   "execution_count": 97,
   "id": "d2f64a02",
   "metadata": {},
   "outputs": [],
   "source": [
    "## subtraction_tuples_three defines subtraction of elements in Z_n x Z_m x Z_r\n",
    "def subtraction_tuples_three(tuple1, tuple2, n,m,r):\n",
    "    x,y,a = tuple1\n",
    "    z,w,b = tuple2\n",
    "    return (x-z)%n,(y-w)%m, (a-b)%r\n",
    "\n",
    "\n",
    "#tuples_three(n,m,r) returns a list of all elements in Z_n x Z_m x Z_r\n",
    "def tuples_three(n,m,r): \n",
    "    list1 = []\n",
    "    for i in range(n):\n",
    "        for j in range(m):\n",
    "            for k in range(r):\n",
    "                list1.append((i,j,k))\n",
    "    return list1\n",
    "\n",
    "##difference_set(l,n,m,r) returns True if elements in the list l form a difference set in Z_n x Z_m x Z_r\n",
    "def difference_set_tuples_three(l,n,m,r): #l is a list of tuples\n",
    "    delta = [] #multiset of differences\n",
    "    for i in l:\n",
    "        for j in l:\n",
    "            delta.append(subtraction_tuples_three(i,j,n,m,r)) \n",
    "    l = delta.count((1,0,0)) #number of times (1,0) appears in delta \n",
    "    ele = tuples_three(n,m,r) #all elements in the group Z_n X Z_m\n",
    "    for i in ele[1:]: #check each non-identity elements appear same number of times\n",
    "        if not delta.count(i) == l: \n",
    "            return False\n",
    "    return True"
   ]
  },
  {
   "cell_type": "code",
   "execution_count": 98,
   "id": "e89e0b08",
   "metadata": {},
   "outputs": [
    {
     "data": {
      "text/plain": [
       "True"
      ]
     },
     "execution_count": 98,
     "metadata": {},
     "output_type": "execute_result"
    }
   ],
   "source": [
    "l = [(0,0,0),(1,0,0),(2,0,0),(0,1,0),(1,1,0),\n",
    "(0,2,0),(0,0,1),(1,0,1),(0,1,1),(1,0,2),\n",
    "(2,1,2),(0,2,2),(2,2,2)];\n",
    "difference_set_tuples_three(l,3,3,3) #a difference set in Z_3 x Z_3 x Z_3"
   ]
  },
  {
   "cell_type": "markdown",
   "id": "8c3bc541",
   "metadata": {},
   "source": [
    "#### Counting equation\n",
    "A $(v,k,\\lambda)$-difference set satisfies the counting equation $k(k-1) = \\lambda(v-1)$."
   ]
  },
  {
   "cell_type": "code",
   "execution_count": 56,
   "id": "92346cc8",
   "metadata": {},
   "outputs": [],
   "source": [
    "#basic_equation(v,k,l) returns True if (v,k,l) satisfites the formula above and False otherwise.\n",
    "def basic_equation(v,k,l):\n",
    "    if l*(v-1) == k*(k-1):\n",
    "        return True\n",
    "    else:\n",
    "        return False"
   ]
  },
  {
   "cell_type": "code",
   "execution_count": 57,
   "id": "4ccc1816",
   "metadata": {},
   "outputs": [
    {
     "name": "stdout",
     "output_type": "stream",
     "text": [
      "True\n",
      "False\n"
     ]
    }
   ],
   "source": [
    "print(basic_equation(7,3,1))\n",
    "print(basic_equation(7,4,1))"
   ]
  },
  {
   "cell_type": "markdown",
   "id": "961fef58",
   "metadata": {},
   "source": [
    "#### BRC theorem\n",
    "A $(v,k,\\lambda)$-difference set passes the BRC test:<br/>\n",
    "* If $v$ is even, then $n = k - \\lambda$ is a square. \n",
    "* If $v$ is odd, then the diophantine equation \n",
    "$x^2 = ny^2 + (-1)^\\frac{v-1}{2}\\lambda z^2$ has a non-trivial integer solution."
   ]
  },
  {
   "cell_type": "markdown",
   "id": "07fcf4df",
   "metadata": {},
   "source": [
    "We first write some prelimary functions."
   ]
  },
  {
   "cell_type": "code",
   "execution_count": 58,
   "id": "32c62e1c",
   "metadata": {},
   "outputs": [],
   "source": [
    "#primes(num) returns primes less than a postive integer num\n",
    "def primes(num):\n",
    "    q = []\n",
    "    for j in range(1,num + 1):\n",
    "        if j > 1:            \n",
    "            for i in range(2, j):\n",
    "                if (j % i) == 0:\n",
    "                    break\n",
    "            else:\n",
    "                q.append(j)\n",
    "    return(q)\n",
    "\n",
    "#Square_free(n) returns True if an integer n is divisble by any power of prime and False otherwise\n",
    "def Square_free(n):\n",
    "    Prime_list = primes(int(n))\n",
    "    i = 0\n",
    "    while i < len(Prime_list):\n",
    "        test =  Prime_list[i]*Prime_list[i]\n",
    "        if test > abs(n):\n",
    "            return True\n",
    "        elif n%test == 0: \n",
    "            return False\n",
    "        else:\n",
    "            i = i+1\n",
    "    return True\n",
    "\n",
    "#quadratic_residue(n,m) returns True if n is a quardratic residue modulo m and False otherwise\n",
    "def quardratic_residue(n,m):\n",
    "    for i in range(0,m):\n",
    "            if (i**2)%m != (n%m):\n",
    "                continue\n",
    "            else:\n",
    "                return True\n",
    "    return False           "
   ]
  },
  {
   "cell_type": "markdown",
   "id": "aa31ccf9",
   "metadata": {},
   "source": [
    "Next we write the function for BRC theorem."
   ]
  },
  {
   "cell_type": "markdown",
   "id": "9ff083b0",
   "metadata": {},
   "source": [
    "Note here we use the Lengendre's theorem to check if the diophantine equation has a nontrivial solution."
   ]
  },
  {
   "cell_type": "markdown",
   "id": "2d43d7d3",
   "metadata": {},
   "source": [
    "**Lengendre's theorem:**\n",
    "Let $a,b \\neq 0$ be integers with at least one of them positive(automatically true in our case). Let $d = \\text{gcd}(a,b)$. Suppose each of $a,b$ are square free. Then the equation $x^2 = ay^2 + bz^2$ has a non-trivial integer solution $(x,y)$ if and only if:\n",
    "* $a$ is a quadratic residue modulo $|b|$,\n",
    "* $b$ is a quadratic residue modulo $|a|$, and \n",
    "* $-\\frac{ab}{d^2}$ is a quadratic residue modulo $|d|$.\n"
   ]
  },
  {
   "cell_type": "code",
   "execution_count": 59,
   "id": "5f06230f",
   "metadata": {},
   "outputs": [],
   "source": [
    "#BRC2(v,k,l) returns True if (v,k,l) passes the BRC test and False otherwise.\n",
    "def BRC2(v,k,l): \n",
    "    if (int(v) % 2) == 0:   #If v is even\n",
    "        n = int(k)-int(l)\n",
    "        if math.sqrt(n).is_integer(): #we check if n = k-l is a perfect square\n",
    "            return True\n",
    "        else:\n",
    "            return False   \n",
    "        \n",
    "#If v is odd        \n",
    "    n = int(k-l)\n",
    "    m = int((-1)**((v-1)/2)*int(l)) #diophantine equation: x^2 = ny^2 + mz^2\n",
    "\n",
    "    if not (Square_free(n) and Square_free(m)): #If n or l is not square free, then\n",
    "        return True      #the Lengendre's theorem does not apply thus we assume (v,k,l) passes the test                       \n",
    "    else:          \n",
    "        d = math.gcd(n,m)\n",
    "        x = int(-n*m/d**2)\n",
    "        if not quardratic_residue(n,abs(m)): #check n is a quardratic residue modulo |m|\n",
    "             return False\n",
    "        if not quardratic_residue(m,abs(n)): #check m is a quadratic residue modulo |n|\n",
    "             return False\n",
    "        if not quardratic_residue(x,abs(d)): #check -(nm/gcd(n,m)) is a quardratic residue modulo |gcd(n,m)|\n",
    "             return False\n",
    "        return True"
   ]
  },
  {
   "cell_type": "code",
   "execution_count": 60,
   "id": "8f477e36",
   "metadata": {},
   "outputs": [
    {
     "name": "stdout",
     "output_type": "stream",
     "text": [
      "True\n",
      "False\n"
     ]
    }
   ],
   "source": [
    "print(BRC2(16,6,2)) #Example 2.3 in the report\n",
    "print(BRC2(67,12,2)) #Example 2.5 in the report "
   ]
  },
  {
   "cell_type": "code",
   "execution_count": 61,
   "id": "aec86e23",
   "metadata": {},
   "outputs": [
    {
     "data": {
      "text/plain": [
       "True"
      ]
     },
     "execution_count": 61,
     "metadata": {},
     "output_type": "execute_result"
    }
   ],
   "source": [
    "#This triple fails the BRC test but since 18 is not square-free, the Lengendre's theorem does not apply\n",
    "#So we treat it passes BRC test\n",
    "BRC2(93,24,6)"
   ]
  },
  {
   "cell_type": "markdown",
   "id": "1b0c69ab",
   "metadata": {},
   "source": [
    "#### Find valid triples up to a certain upper bound for v\n",
    "We want to find triples that pass the counting equation and BRC test up to a certain upper bound for v. <br/>\n",
    "Note parameters for trivial difference sets and triples with $k>\\frac{v}{2}$ are excluded."
   ]
  },
  {
   "cell_type": "code",
   "execution_count": 62,
   "id": "5af2df5a",
   "metadata": {},
   "outputs": [],
   "source": [
    "#parameter_search3(v) return a list of such triples up to upper bound v\n",
    "def parameter_search3(v):\n",
    "    list1 = []\n",
    "    for i in range(2,v+1):\n",
    "        for j in range (int(sqrt(i-1)),i//2 +1): #Find triples with k<v/2. Note v-1 <= l(v-1)< k^2 so k > sqrt(i-1)\n",
    "            for c in range(1,j//2 +1): #If k<v/2, then l<k/2\n",
    "                if basic_equation(i,j,c) and BRC2(i,j,c): \n",
    "                    list1.append((i,j,c))\n",
    "    return list1"
   ]
  },
  {
   "cell_type": "code",
   "execution_count": 63,
   "id": "d801d41b",
   "metadata": {},
   "outputs": [
    {
     "name": "stdout",
     "output_type": "stream",
     "text": [
      "[(7, 3, 1), (11, 5, 2), (13, 4, 1), (15, 7, 3), (16, 6, 2), (19, 9, 4), (21, 5, 1), (23, 11, 5), (25, 9, 3), (27, 13, 6), (31, 6, 1), (31, 10, 3), (31, 15, 7), (35, 17, 8), (36, 15, 6), (37, 9, 2), (39, 19, 9), (40, 13, 4), (41, 16, 6), (43, 21, 10), (45, 12, 3), (47, 23, 11), (49, 16, 5)]\n",
      "23\n",
      "229\n"
     ]
    }
   ],
   "source": [
    "a = parameter_search3(50)\n",
    "print(a) \n",
    "print(len(a)) \n",
    "print(len(parameter_search3(300))) "
   ]
  },
  {
   "cell_type": "markdown",
   "id": "595483c8",
   "metadata": {},
   "source": [
    "* 23 triples pass two tests with $v \\leq 50$\n",
    "* 229 triples pass two tests with $v \\leq 300$"
   ]
  },
  {
   "cell_type": "markdown",
   "id": "e30b633e",
   "metadata": {},
   "source": [
    "#### Equivalence\n",
    "Two difference sets $D_1$ and $D_2$ are **equivalent** if $D_2 = g\\alpha(D_1)$ for some $g \\in G$ and $\\alpha \\in \\mathrm{Aut}(G)$. <br/>\n",
    "Equivalent difference sets are considered the same in the classification of all difference sets in a group."
   ]
  },
  {
   "cell_type": "code",
   "execution_count": 64,
   "id": "fd91f6e3",
   "metadata": {},
   "outputs": [],
   "source": [
    "#coprime_list(num) returns a list of numbers less than and coprime with num\n",
    "def coprime_list(num):\n",
    "    t = []\n",
    "    for i in range(0,num):\n",
    "        if math.gcd(i,num) == 1:\n",
    "            t.append(i)\n",
    "    return t\n",
    "\n",
    "\n",
    "#equivalence(D1,D2,n) returns True if D1 and D2 are equivalent difference sets in the CYCLIC group of order n. \n",
    "#D1 and D2 are lists and n is an integer.\n",
    "def equivalence(D1,D2,n):\n",
    "    automorphism = coprime_list(n)  #an automorphism in Z_n can be specifed as a number coprime with n\n",
    "    \n",
    "    #First transform D1 and D2 to difference sets(lists) containing 0(i.e., identity)\n",
    "    if not 0 in D1:                \n",
    "        D1 = [(x - D1[0])%n for x in D1]        \n",
    "    if not 0 in D2:\n",
    "        D2 = [(x-D2[0])%n for x in D2]\n",
    "               \n",
    "    for alpha_i in automorphism:\n",
    "        image_D1 = [alpha_i*x %n for x in D1]\n",
    "        for j in D2:  #g must be an element in D2 since 0 in the alpha_i(D1)\n",
    "            newlist = [(x+j) %n for x in image_D1]\n",
    "            if set(D2) == set(newlist):\n",
    "                return True\n",
    "    return False"
   ]
  },
  {
   "cell_type": "code",
   "execution_count": 65,
   "id": "d0a9c40a",
   "metadata": {},
   "outputs": [
    {
     "data": {
      "text/plain": [
       "True"
      ]
     },
     "execution_count": 65,
     "metadata": {},
     "output_type": "execute_result"
    }
   ],
   "source": [
    "equivalence([1,2,4],[3,5,6],7)"
   ]
  },
  {
   "cell_type": "markdown",
   "id": "5813a33d",
   "metadata": {},
   "source": [
    "Note here we only implement the algorithm for cyclic difference sets since it is much easier to find an automorphisms in a cyclic group"
   ]
  },
  {
   "cell_type": "markdown",
   "id": "c5ca60a9",
   "metadata": {},
   "source": [
    "## 2. Multiplier Theorems."
   ]
  },
  {
   "cell_type": "markdown",
   "id": "b350137d",
   "metadata": {},
   "source": [
    "#### First Multiplier Theorem\n",
    "Let $D$ be a $(v,k,\\lambda)$-difference set in an abelian group $G$. Then a prime $p$ is a numerical multiplier if \n",
    "$p>\\lambda$, $p\\mid n$, and $p\\nmid v $.\n"
   ]
  },
  {
   "cell_type": "code",
   "execution_count": 66,
   "id": "b0bced82",
   "metadata": {},
   "outputs": [],
   "source": [
    "#MultiplierTheorem1(v,k,l) returns a list of multipliers\n",
    "#for all abelian (v,k,l) difference sets using first multiplier theorem\n",
    "def MultiplierTheorem1(v,k,l):\n",
    "    p = []\n",
    "    n = k-l\n",
    "    q = primes(n) #Find primes less than n\n",
    "    for i in q:\n",
    "        if (i > l) and (n % i == 0) and (v % i != 0):\n",
    "                p.append(i)\n",
    "    return p"
   ]
  },
  {
   "cell_type": "code",
   "execution_count": 67,
   "id": "db0879a2",
   "metadata": {},
   "outputs": [
    {
     "data": {
      "text/plain": [
       "[7]"
      ]
     },
     "execution_count": 67,
     "metadata": {},
     "output_type": "execute_result"
    }
   ],
   "source": [
    "MultiplierTheorem1(27,13,6)"
   ]
  },
  {
   "cell_type": "markdown",
   "id": "1d9d4db6",
   "metadata": {},
   "source": [
    "#### Second Multiplier Theorem\n",
    "Let $G$ be an abelian group with exponent $v^\\ast$ and $D$ be a $(v,k,\\lambda)$-difference set. \n",
    "Let $m$ be a divisor of $n$ with $m>\\lambda$ and $\\text{gcd}(m,v)=1$. Then an integer $t$ with $\\mathrm{gcd}(t,v)=1$ is a numerical multiplier if, for all prime $p$ such that $p\\mid m$, $\\exists f\\in \\mathbb{Z}_{\\geq 0}$ such that $t \\equiv p^f\\mod v^\\ast$."
   ]
  },
  {
   "cell_type": "code",
   "execution_count": 68,
   "id": "03c0e506",
   "metadata": {},
   "outputs": [],
   "source": [
    "#primes_factors2(n) returns the prime factors of an integer n\n",
    "#reference: https://stackoverflow.com/questions/16996217/prime-factorization-list\n",
    "def primes_factors2(n):\n",
    "    primfac = []\n",
    "    while n%2 == 0:\n",
    "        primfac.append(2)\n",
    "        n = n//2\n",
    "    d = 3\n",
    "    while d*d <= n:\n",
    "        while (n % d) == 0:\n",
    "            primfac.append(d)  # supposing you want multiple factors repeated\n",
    "            n //= d\n",
    "        d += 2\n",
    "    if n > 1:\n",
    "        primfac.append(n)\n",
    "    return list(set(primfac))\n",
    "\n",
    "\n",
    "#MultiplierTheorem2(v,k,l,v_e) returns a list of multipliers using second multiplier theorem\n",
    "#for all abelian (v,k,l) difference sets in groups of order v with exponent v\n",
    "def MultiplierTheorem2(v,k,l,v_e):\n",
    "    r = []\n",
    "    n = k-l\n",
    "    for m in range(l+1, n+1):  #let m be a divisor of n, coprime with v, and m > l\n",
    "        if (n%m == 0) and (math.gcd(m,v)==1): \n",
    "            q_list = primes_factors2(m) #a list of primes that divides m\n",
    "            t_list = coprime_list(v)   #a list of integers coprime with v.\n",
    "            for t in t_list:\n",
    "                count = 0  #count p in the q_list satisfies the condition(there exists f s.t t = p^f mod v_e)  \n",
    "                while count < len(q_list):\n",
    "                    count1 = count  \n",
    "                    p = q_list[count] \n",
    "                    for f in range(1,v):\n",
    "                        if t%v_e != p**f %v_e:  #if there exists p such that the condition does not hold\n",
    "                            count = len(q_list) + 1  #set count = len(q_list) and test other p \n",
    "                        else:\n",
    "                            count = count1 + 1 #if there exists f such that t = p^f mod v_e, set count += 1\n",
    "                            break   # then break the loop(Note count may already be set to len(q_list+1))\n",
    "                                    #so we introduce count1\n",
    "                if count == len(q_list):  #if all p satisfies the condition, then t is a numerical multiplier\n",
    "                    r.append(t)\n",
    "    return r"
   ]
  },
  {
   "cell_type": "code",
   "execution_count": 69,
   "id": "720a0cc4",
   "metadata": {},
   "outputs": [
    {
     "name": "stdout",
     "output_type": "stream",
     "text": [
      "[1, 4, 7, 10, 13, 16, 19, 22, 25]\n",
      "[1, 4, 7, 10, 13, 16, 19, 22, 25]\n",
      "[1, 4, 7, 10, 13, 16, 19, 22, 25]\n"
     ]
    }
   ],
   "source": [
    "print(MultiplierTheorem2(27,13,6,27))  #Z_27\n",
    "print(MultiplierTheorem2(27,13,6,9))   #Z_9 X Z_3\n",
    "print(MultiplierTheorem2(27,13,6,3))   #Z_3 X Z_3 X Z_3"
   ]
  },
  {
   "cell_type": "markdown",
   "id": "fee6ed5e",
   "metadata": {},
   "source": [
    "#### Comparison\n",
    "* The first multiplier theorem finds a multiplier but the second multipier theorem finds a group of multipliers \n",
    "* The first multiplier theorem does not require the exponent of the groups\n",
    "* The second multiplier theorem is a generalisation of the first multiplier theorem as an attempt to prove the multiplier conjecture"
   ]
  },
  {
   "cell_type": "code",
   "execution_count": 70,
   "id": "6e857076",
   "metadata": {},
   "outputs": [
    {
     "name": "stdout",
     "output_type": "stream",
     "text": [
      "[]\n",
      "[1, 3, 4, 9, 11, 12, 13, 16, 17, 27, 29, 33]\n"
     ]
    }
   ],
   "source": [
    "print(MultiplierTheorem1(35,17,8))\n",
    "print(MultiplierTheorem2(35,17,8,35))"
   ]
  },
  {
   "cell_type": "markdown",
   "id": "d3276ad6",
   "metadata": {},
   "source": [
    "#### Aside: The most general Multiplier Theorem.\n",
    "Currently the most general multiplier theorem is Theorem 3.1 in the paper 'A survey of the multiplier conjecture' of Daniel M. Gordon & Bernhard Schmidt (link: https://link.springer.com/article/10.1007/s10623-015-0153-8). <br/>\n",
    "We also implement this theorem. Unfortunately, it takes much slower to run compared with the 1st and 2nd multiplier theorems, so we did not use it in our project. "
   ]
  },
  {
   "cell_type": "code",
   "execution_count": 71,
   "id": "b14ba6c3",
   "metadata": {},
   "outputs": [],
   "source": [
    "#divisor(n) returns all divisors of a number n\n",
    "def divisor(n):\n",
    "    l = []\n",
    "    for i in range(1,n+1):\n",
    "        if n%i == 0:\n",
    "            l.append(i)\n",
    "    return l\n",
    "\n",
    "#Given t, u, v and check if there exists a positive integer f such that t = u^f(mod v).\n",
    "def rasing_power(t,u,v):\n",
    "    lcm = u*v//math.gcd(u,v)\n",
    "    order = lcm//u #order of u\n",
    "    for i in range(1,order+1):\n",
    "        if not t%v == u**i %v:\n",
    "            continue\n",
    "        else:\n",
    "            return True\n",
    "    return False\n",
    "\n",
    "#check that for a list\n",
    "def rasing_power_list(t,l,v):\n",
    "    for i in l:\n",
    "        if not rasing_power(t,i,v):\n",
    "            return False\n",
    "    return True\n",
    "\n",
    "#self_modulo(n,v) returns True if a prime p is a self-conjugate_modulo v and False otherwise\n",
    "def self_conjugate_modulo(p,v):\n",
    "    a = 0\n",
    "    v1 = v\n",
    "    while v1%p == 0:\n",
    "        a += 1\n",
    "        v1 = v1//p\n",
    "    w = v//(p**a)\n",
    "  #  lcm =  p*v//math.gcd(v,p)\n",
    "  #  order = lcm//p\n",
    "    if rasing_power(-1,p,w):\n",
    "         return True\n",
    "    else:\n",
    "        return False\n",
    "\n",
    "\n",
    "#Check is a list of primes are self-conjugate_modolo v\n",
    "def self_conjugate_modulo_list(l,v):\n",
    "    for i in l:\n",
    "        if not self_conjugate_modulo(i,v):\n",
    "            return False\n",
    "    return True\n",
    "\n",
    "#M function used in Theorem 3.1 on Godron and Schmidt paper\n",
    "def M(m,b):\n",
    "    if m == 1:\n",
    "        return 1\n",
    "    else:\n",
    "        p_list = primes_factors2(m)\n",
    "        p = p_list[0] #take a prime divisor of m \n",
    "        e = 0 #count the highest power p^e dividing m\n",
    "        m1 = m\n",
    "        while m1%p == 0:\n",
    "            e += 1\n",
    "            m1 = m1//p\n",
    "        factors = p_list + primes_factors2(M(m**2//p**(2*e),2*m**2//p**(2*e)-2))\n",
    "        for i in range(1,b+1):\n",
    "            factors = factors + primes_factors2(p**i-1)   \n",
    "        return math.prod(set(factors))\n",
    "\n",
    "#The most general multiplier theorem(Theorem 3.1 in the paper of Gordan and Schimidt)\n",
    "#This function is slower than MultiplierTheorem2\n",
    "def MultiplierTheorem3(v,k,l,v_e):\n",
    "    multipliers = []\n",
    "    n = k-l\n",
    "    n1_list = divisor(n)\n",
    "    t_list = coprime_list(v)\n",
    "    for n1 in n1_list:\n",
    "        u_list = primes_factors2(n1)\n",
    "        for t in t_list:\n",
    "            if not (self_conjugate_modulo_list(u_list,v_e) or rasing_power_list(t,u_list,v_e)):\n",
    "                continue\n",
    "            else:\n",
    "                if n1/math.gcd(v,n1) > l or math.gcd(v,M(n*math.gcd(v,n1)//n1, k*math.gcd(v,n1)//n1)) == 1:\n",
    "                    multipliers.append(t)\n",
    "    return list(set(multipliers))"
   ]
  },
  {
   "cell_type": "code",
   "execution_count": 75,
   "id": "457463c6",
   "metadata": {},
   "outputs": [
    {
     "data": {
      "text/plain": [
       "[1, 4, 7, 10, 13, 16, 19, 22, 25]"
      ]
     },
     "execution_count": 75,
     "metadata": {},
     "output_type": "execute_result"
    }
   ],
   "source": [
    "MultiplierTheorem3(27,13,6,27)"
   ]
  },
  {
   "cell_type": "code",
   "execution_count": 72,
   "id": "f52ab057",
   "metadata": {},
   "outputs": [
    {
     "data": {
      "text/plain": [
       "0.00014781951904296875"
      ]
     },
     "execution_count": 72,
     "metadata": {},
     "output_type": "execute_result"
    }
   ],
   "source": [
    "start = time.time()\n",
    "MultiplierTheorem1(27,13,6)\n",
    "end = time.time()\n",
    "end - start"
   ]
  },
  {
   "cell_type": "code",
   "execution_count": 73,
   "id": "26560fa4",
   "metadata": {},
   "outputs": [
    {
     "data": {
      "text/plain": [
       "0.0006539821624755859"
      ]
     },
     "execution_count": 73,
     "metadata": {},
     "output_type": "execute_result"
    }
   ],
   "source": [
    "start = time.time()\n",
    "MultiplierTheorem2(27,13,6,27)\n",
    "end = time.time()\n",
    "end - start"
   ]
  },
  {
   "cell_type": "code",
   "execution_count": 74,
   "id": "5d90eae7",
   "metadata": {},
   "outputs": [
    {
     "data": {
      "text/plain": [
       "0.25290393829345703"
      ]
     },
     "execution_count": 74,
     "metadata": {},
     "output_type": "execute_result"
    }
   ],
   "source": [
    "start = time.time()\n",
    "MultiplierTheorem3(27,13,6,27)\n",
    "end = time.time()\n",
    "end - start"
   ]
  },
  {
   "cell_type": "markdown",
   "id": "3f966d0a",
   "metadata": {},
   "source": [
    "Computation cost: Theorem 3.1 > second multiplier theorem > first multiplier theorem"
   ]
  },
  {
   "cell_type": "markdown",
   "id": "49f52924",
   "metadata": {},
   "source": [
    "## 3. Find difference sets using multipliers."
   ]
  },
  {
   "cell_type": "markdown",
   "id": "33fab746",
   "metadata": {},
   "source": [
    "#### Algorithm for classifying difference sets for a valid parameter using multipliers. \n",
    "\n",
    "* Find a left multiplier (here we use the second multiplier theorem).\n",
    "* Calculate the orbits under the action of the group generated by the multiplier.\n",
    "* Find a union of orbits that has $k$ elements in total and test if it is a difference set. \n",
    "* Check if any of these difference sets are equivalent"
   ]
  },
  {
   "cell_type": "markdown",
   "id": "c6e24819",
   "metadata": {},
   "source": [
    "##### cyclic difference sets:"
   ]
  },
  {
   "cell_type": "code",
   "execution_count": 77,
   "id": "aa5c7009",
   "metadata": {},
   "outputs": [],
   "source": [
    "#orbit(x,n,t) returns a list containing elements of the orbits of x under the action of <phi_t> in the group Z_n\n",
    "def orbit(x,n,t):\n",
    "    list_1 = [x]\n",
    "    while True:\n",
    "        if t*list_1[-1] % n == x:\n",
    "            return list_1\n",
    "        else:\n",
    "            list_1.append(t*list_1[-1] % n)\n",
    "\n",
    "#orbit_cyclic(n,t) returns a list, which first entry is a list containing\n",
    "#the orbits of Z_n under the action of <phi_t>. The second entry is a list containing the size of each orbit\n",
    "def orbit_cyclic(n,t):\n",
    "    list1 = list(range(n))\n",
    "    lists = [] #lists will contain the orbits\n",
    "    sizes = []\n",
    "    while len(list1):\n",
    "            i = list1[0]\n",
    "            list2 = orbit(i,n,t)\n",
    "            lists.append(list2)\n",
    "            sizes.append(len(list2))\n",
    "            list1 = [x for x in list1 if x not in list2]\n",
    "            if len(list1) == 0:\n",
    "                break\n",
    "    return lists,sizes"
   ]
  },
  {
   "cell_type": "code",
   "execution_count": 79,
   "id": "ba8489d1",
   "metadata": {},
   "outputs": [
    {
     "data": {
      "text/plain": [
       "([[0], [1, 2, 4], [3, 6, 5]], [1, 3, 3])"
      ]
     },
     "execution_count": 79,
     "metadata": {},
     "output_type": "execute_result"
    }
   ],
   "source": [
    "orbit_cyclic(7,2) #orbits of Z_7 under the numerical multiplier 2"
   ]
  },
  {
   "cell_type": "code",
   "execution_count": 94,
   "id": "7226ebe7",
   "metadata": {},
   "outputs": [],
   "source": [
    "#find (v,k,l)-difference sets up to equivalence in Z_v using the second multiplier theorem\n",
    "def find_difference_set_explictly(v,k,l):\n",
    "    list_of_difference_sets = []\n",
    "    list1 = MultiplierTheorem2(v,k,l,v)\n",
    "    if not list1:\n",
    "        print(\"No mutipliers\")\n",
    "        return \n",
    "    t = list1[1] #skip multiplier 1\n",
    "    list2 = orbit_cyclic(v,t)\n",
    "    dic = {} #create a dictionary that contains orbits as the keys and size of orbits as value\n",
    "    for i in range(0,len(list2[0])):\n",
    "        dic[tuple(list2[0][i])] = list2[1][i]\n",
    "        for key,value in dict(dic).items(): #remove cycles greater than k. \n",
    "            if value > k:    #reference: https://stackoverflow.com/questions/29218750/what-is-the-best-way\n",
    "                del dic[key]  #-to-remove-a-dictionary-item-by-value-in-python\n",
    "    for z in range(1,len(dic)+1):\n",
    "        combinations = itertools.combinations(dic,z)  #choose i keys from dic\n",
    "        for j in combinations:  #check each combination of z elements(combination denoted j) from a difference set\n",
    "            s = 0         #calculate the total length of these z elements\n",
    "            for d in j:\n",
    "                s += dic[d]\n",
    "            if s == k:  #if the length is k, then we check if it is a difference set\n",
    "                l = []\n",
    "                for ch in j:\n",
    "                    l = l + list(ch) #transform j to a list l\n",
    "                if difference_set(l,v): #if l is a difference set\n",
    "                    if not list_of_difference_sets:  #add l if the list of difference sets is empty\n",
    "                        list_of_difference_sets.append(l)\n",
    "                        continue\n",
    "                    if list_of_difference_sets: #if we already have difference sets\n",
    "                        count = 0\n",
    "                        for diff in list_of_difference_sets: #we need to check l is inequivalent to any of them \n",
    "                            if equivalence(l,diff,v):\n",
    "                                count = 1\n",
    "                                break\n",
    "                        if count == 0:\n",
    "                            list_of_difference_sets.append(l)\n",
    "    print(list_of_difference_sets)\n",
    "    return"
   ]
  },
  {
   "cell_type": "code",
   "execution_count": 95,
   "id": "3945e47d",
   "metadata": {},
   "outputs": [
    {
     "name": "stdout",
     "output_type": "stream",
     "text": [
      "[[1, 2, 4]]\n"
     ]
    }
   ],
   "source": [
    "find_difference_set_explictly(7,3,1)"
   ]
  },
  {
   "cell_type": "markdown",
   "id": "78189725",
   "metadata": {},
   "source": [
    "##### difference sets in the direct product of two cyclic groups:"
   ]
  },
  {
   "cell_type": "code",
   "execution_count": 104,
   "id": "1c9fab40",
   "metadata": {},
   "outputs": [],
   "source": [
    "#define multiplication of tuple by a scalar in Z_n x Z_m\n",
    "def multiply_tuple(t,mytuple,n,m):\n",
    "    x,y = mytuple\n",
    "    return t*x%n, t*y%m\n",
    "\n",
    "\n",
    "#orbit(mytuple,n,m,t) returns the orbit of an element mytuple in Z_n x Z_m\n",
    "def orbit_tuple(mytuple,n,m,t): #t must be a power automorphism for Z_n x Z_m. Otherwise the function won't stop!\n",
    "    list_1 = [mytuple]\n",
    "    while True:\n",
    "        y = multiply_tuple(t,list_1[-1],n,m)\n",
    "        if y == mytuple:\n",
    "            return list_1\n",
    "        else:\n",
    "            list_1.append(y)\n",
    "\n",
    "\n",
    "#orbit_direct_sum(n,m,t) computes the orbits of Z_n x Z_m under the action of <phi_t>\n",
    "#It returns a list whose first element is a list of orbits and the second element is a list of lengths of the orbits\n",
    "def orbit_direct_sum(n,m,t):\n",
    "    list1 = tuples(n,m)\n",
    "    lists = [] #lists will contain the orbits\n",
    "    sizes = []\n",
    "    while len(list1):\n",
    "            i = list1[0]\n",
    "            list2 = orbit_tuple(i,n,m,t)\n",
    "            lists.append(list2)\n",
    "            sizes.append(len(list2))\n",
    "            list1 = [x for x in list1 if x not in list2]\n",
    "            if len(list1) == 0:\n",
    "                break\n",
    "    return lists,sizes"
   ]
  },
  {
   "cell_type": "code",
   "execution_count": 103,
   "id": "689b4853",
   "metadata": {},
   "outputs": [
    {
     "data": {
      "text/plain": [
       "([[(0, 0)],\n",
       "  [(0, 1), (0, 2), (0, 4), (0, 3)],\n",
       "  [(1, 0), (2, 0), (4, 0), (3, 0)],\n",
       "  [(1, 1), (2, 2), (4, 4), (3, 3)],\n",
       "  [(1, 2), (2, 4), (4, 3), (3, 1)],\n",
       "  [(1, 3), (2, 1), (4, 2), (3, 4)],\n",
       "  [(1, 4), (2, 3), (4, 1), (3, 2)]],\n",
       " [1, 4, 4, 4, 4, 4, 4])"
      ]
     },
     "execution_count": 103,
     "metadata": {},
     "output_type": "execute_result"
    }
   ],
   "source": [
    "orbit_direct_sum(5,5,2) #orbits of Z_5 x Z_5 using numerical multiplier 2"
   ]
  },
  {
   "cell_type": "markdown",
   "id": "b87fc9d0",
   "metadata": {},
   "source": [
    "We then write a function to find the difference sets in direct product of $\\mathbb{Z}_n \\times \\mathbb{Z}_m$ given a multiplier $t$. <br/>\n",
    "Note as we did not implement an algortithm to find the automorphism groups in a non cyclic group, we cannot check euquivalence of difference sets in this case."
   ]
  },
  {
   "cell_type": "code",
   "execution_count": 106,
   "id": "53ee56d2",
   "metadata": {},
   "outputs": [],
   "source": [
    "#Given a paramter (v,k,l), the multiplier t, find the difference sets in Z_n x Z_m\n",
    "#If no difference sets exist, the function print nothing\n",
    "def find_difference_set_explictly_tuples(v,k,l,n,m,t):\n",
    "    list2 = orbit_direct_sum(n,m,t) #orbits of Z_n x Z_m under t\n",
    "    dic = {} #create a dictionary that contains orbits as the keys and size of orbits as value\n",
    "    for i in range(0,len(list2[0])):\n",
    "        dic[tuple(list2[0][i])] = list2[1][i]\n",
    "        for key,value in dict(dic).items(): #remove cycles greater than k. \n",
    "            if value > k:    #reference: https://stackoverflow.com/questions/29218750/what-is-the-best-way\n",
    "                del dic[key]  #-to-remove-a-dictionary-item-by-value-in-python\n",
    "    for z in range(1,len(dic)+1):\n",
    "        combinations = itertools.combinations(dic,z)  #choose i keys from dic\n",
    "        for j in combinations:  #check each combination of z elements(combination denoted j) from a difference set\n",
    "            s = 0         #calculate the total length of these z elements\n",
    "            for d in j:\n",
    "                s += dic[d]\n",
    "            if s == k:  #if the length is k, then we check if it is a difference set\n",
    "                l = []\n",
    "                for ch in j:\n",
    "                    l = l + list(ch) #transform j to a list l\n",
    "                if difference_set_tuples(l,n,m): #if l is a difference set\n",
    "                    print(l)"
   ]
  },
  {
   "cell_type": "code",
   "execution_count": 108,
   "id": "06f294e5",
   "metadata": {},
   "outputs": [],
   "source": [
    "find_difference_set_explictly_tuples(25,9,3,5,5,2) #prints nothing--no (29,9,3)-difference sets exist in Z_5 x Z_5. "
   ]
  },
  {
   "cell_type": "code",
   "execution_count": 116,
   "id": "a9ab4a48",
   "metadata": {},
   "outputs": [
    {
     "name": "stdout",
     "output_type": "stream",
     "text": [
      "[(0, 0), (1, 0), (2, 0), (4, 0), (8, 0), (16, 0), (11, 0), (1, 1), (2, 2), (4, 1), (8, 2), (16, 1), (11, 2), (3, 0), (6, 0), (12, 0), (3, 1), (6, 2), (12, 1), (3, 2), (6, 1), (12, 2), (5, 1), (10, 2), (20, 1), (19, 2), (17, 1), (13, 2), (9, 0), (18, 0), (15, 0)]\n",
      "[(0, 0), (1, 0), (2, 0), (4, 0), (8, 0), (16, 0), (11, 0), (1, 2), (2, 1), (4, 2), (8, 1), (16, 2), (11, 1), (3, 0), (6, 0), (12, 0), (3, 1), (6, 2), (12, 1), (3, 2), (6, 1), (12, 2), (5, 2), (10, 1), (20, 2), (19, 1), (17, 2), (13, 1), (9, 0), (18, 0), (15, 0)]\n",
      "[(0, 0), (1, 0), (2, 0), (4, 0), (8, 0), (16, 0), (11, 0), (3, 0), (6, 0), (12, 0), (5, 1), (10, 2), (20, 1), (19, 2), (17, 1), (13, 2), (5, 2), (10, 1), (20, 2), (19, 1), (17, 2), (13, 1), (9, 0), (18, 0), (15, 0), (9, 1), (18, 2), (15, 1), (9, 2), (18, 1), (15, 2)]\n",
      "[(0, 0), (1, 1), (2, 2), (4, 1), (8, 2), (16, 1), (11, 2), (1, 2), (2, 1), (4, 2), (8, 1), (16, 2), (11, 1), (3, 0), (6, 0), (12, 0), (3, 1), (6, 2), (12, 1), (3, 2), (6, 1), (12, 2), (5, 0), (10, 0), (20, 0), (19, 0), (17, 0), (13, 0), (9, 0), (18, 0), (15, 0)]\n",
      "[(0, 0), (1, 1), (2, 2), (4, 1), (8, 2), (16, 1), (11, 2), (3, 0), (6, 0), (12, 0), (5, 0), (10, 0), (20, 0), (19, 0), (17, 0), (13, 0), (5, 1), (10, 2), (20, 1), (19, 2), (17, 1), (13, 2), (9, 0), (18, 0), (15, 0), (9, 1), (18, 2), (15, 1), (9, 2), (18, 1), (15, 2)]\n",
      "[(0, 0), (1, 2), (2, 1), (4, 2), (8, 1), (16, 2), (11, 1), (3, 0), (6, 0), (12, 0), (5, 0), (10, 0), (20, 0), (19, 0), (17, 0), (13, 0), (5, 2), (10, 1), (20, 2), (19, 1), (17, 2), (13, 1), (9, 0), (18, 0), (15, 0), (9, 1), (18, 2), (15, 1), (9, 2), (18, 1), (15, 2)]\n"
     ]
    }
   ],
   "source": [
    "find_difference_set_explictly_tuples(63,31,13,21,3,2) #We don't check equivalence here"
   ]
  },
  {
   "cell_type": "markdown",
   "id": "55818e69",
   "metadata": {},
   "source": [
    "##### difference sets in the direct product of three cyclic groups are similar:"
   ]
  },
  {
   "cell_type": "code",
   "execution_count": 110,
   "id": "6f478bb0",
   "metadata": {},
   "outputs": [],
   "source": [
    "#Slightly change the code(i.e., the length of the tuple)\n",
    "\n",
    "#define multiplication of tuple by a scalar in Z_n x Z_m x Z_r\n",
    "def multiply_tuple_three(t,mytuple,n,m,r):\n",
    "    x,y,z = mytuple\n",
    "    return t*x%n, t*y%m, t*z%r\n",
    "\n",
    "#orbit(mytuple,n,m,r,t) returns the orbit of an element mytuple in Z_n x Z_m x Z_r under the action of <phi_t>\n",
    "def orbit_tuple_three(mytuple,n,m,r,t): #t must be a power automorphism for Z_n x Z_m x Z_r.\n",
    "    list_1 = [mytuple]\n",
    "    while True:\n",
    "        y = multiply_tuple_three(t,list_1[-1],n,m,r)\n",
    "        if y == mytuple:\n",
    "            return list_1\n",
    "        else:\n",
    "            list_1.append(y)\n",
    "            \n",
    "\n",
    "#orbit_direct_sum(n,m,r,t) computes the orbits of Z_n x Z_m x Z_r given a multiplier t\n",
    "def orbit_direct_sum_three(n,m,r,t):\n",
    "    list1 = tuples_three(n,m,r)\n",
    "    lists = [] #lists will contain the orbits\n",
    "    sizes = []\n",
    "    while len(list1):\n",
    "            i = list1[0]\n",
    "            list2 = orbit_tuple_three(i,n,m,r,t)\n",
    "            lists.append(list2)\n",
    "            sizes.append(len(list2))\n",
    "            list1 = [x for x in list1 if x not in list2]\n",
    "            if len(list1) == 0:\n",
    "                break\n",
    "    return lists,sizes\n",
    "\n",
    "#Given a paramter (v,k,l), the multiplier t, find the difference sets in Z_n x Z_m x Z_r\n",
    "#If no difference sets exist, the function print nothing\n",
    "def find_difference_set_explictly_tuples_three(v,k,l,n,m,r,t):\n",
    "    list2 = orbit_direct_sum_three(n,m,r,t) #orbits of Z_n X Z_m under t\n",
    "    dic = {} #create a dictionary that contains orbits as the keys and size of orbits as value\n",
    "    for i in range(0,len(list2[0])):\n",
    "        dic[tuple(list2[0][i])] = list2[1][i]\n",
    "        for key,value in dict(dic).items(): #remove cycles greater than k. \n",
    "            if value > k:    #reference: https://stackoverflow.com/questions/29218750/what-is-the-best-way\n",
    "                del dic[key]  #-to-remove-a-dictionary-item-by-value-in-python\n",
    "    for z in range(1,len(dic)+1):\n",
    "        combinations = itertools.combinations(dic,z)  #choose i keys from dic\n",
    "        for j in combinations:  #check each combination of z elements(combination denoted j) from a difference set\n",
    "            s = 0         #calculate the total length of these z elements\n",
    "            for d in j:\n",
    "                s += dic[d]\n",
    "            if s == k:  #if the length is k, then we check if it is a difference set\n",
    "                l = []\n",
    "                for ch in j:\n",
    "                    l = l + list(ch) #transform j to a list l\n",
    "                if difference_set_tuples_three(l,n,m,r): #if l is a difference set\n",
    "                    print(l)"
   ]
  },
  {
   "cell_type": "code",
   "execution_count": 112,
   "id": "69d86872",
   "metadata": {},
   "outputs": [],
   "source": [
    "find_difference_set_explictly_tuples_three(40,13,4,10,2,2,3)#no (40,13,4)-difference set exists in Z_10 x Z_2 x Z_2"
   ]
  },
  {
   "cell_type": "markdown",
   "id": "cd599144",
   "metadata": {},
   "source": [
    "## 4. Difference sets in $D_{2n}$  where $n\\leq 150$"
   ]
  },
  {
   "cell_type": "markdown",
   "id": "9ab4cbe2",
   "metadata": {},
   "source": [
    "It has been long conjectured that no difference set exists in dihedral groups $D_{2n}$. <br/>\n",
    "We want to use multipliers to study this conjecture. However, multipliers theorems only work for abelia groups. <br/>\n",
    "So we introduce Dillon's dihedral trick, which builds a bridge between cyclic difference sets and difference sets in $D_{2n}$."
   ]
  },
  {
   "cell_type": "markdown",
   "id": "c61df067",
   "metadata": {},
   "source": [
    "##### Dillon's dihedral trick\n",
    "Suppose $D_{2n}$ contains a $(v,k,\\lambda)$-difference set, then $\\mathbb{Z}_{2n}$ contains a $(v,k,\\lambda)$-difference set."
   ]
  },
  {
   "cell_type": "markdown",
   "id": "7a6fcbb8",
   "metadata": {},
   "source": [
    "So we only need to use multipliers to show no difference sets exist in $\\mathbb{Z}_{2n}$. <br/>\n",
    "However, there are some paramters where multiplier theorems do not work. In particular, difference sets in Hadamard family (i.e., v = 4n = 4(k-$\\lambda$)). For example, (16,6,2) since 6-2$\\mid$16). <br/>\n",
    "We introduce Turyn's exponent bound to deal with such cases."
   ]
  },
  {
   "cell_type": "markdown",
   "id": "72bd482f",
   "metadata": {},
   "source": [
    "##### Turyn's exponant bound\n",
    "No $(4p^{2a},2p^{2a}-p^a, p^{2a}-p^a)$-difference sets exist in a cyclic group of order $4p^{2a}$ where $p$ is a prime and $a\\geq 1$ is an integer. "
   ]
  },
  {
   "cell_type": "code",
   "execution_count": 118,
   "id": "86e3bc03",
   "metadata": {},
   "outputs": [],
   "source": [
    "#rule_out_case_4pt(v,k,l) returns True if (v,k,l) does not have a form in Turyn's and \n",
    "#returns False if (v,k,l) is ruled out in our study by Turyn's.\n",
    "def rule_out_case_4pt(v,k,l):\n",
    "    if v%4 != 0:\n",
    "        return True\n",
    "    p1 = int(v/4)\n",
    "    primes = primes_factors2(p1)\n",
    "    if len(primes) == 1: #check if p1 is a power of p. \n",
    "        p = primes[0]\n",
    "        a = 1\n",
    "        while p**2 < p1:  #check if p1 is a even power of p\n",
    "            p1 = p1/p**2\n",
    "            a += 1\n",
    "        if p1 == p: \n",
    "            return True\n",
    "        else:\n",
    "            if (k == 2*p**(2*a) - p**a) and (l == p**(2*a) - p**a):  #check k and l\n",
    "                return False   #rules out by Turyn's exponent bound\n",
    "            else:\n",
    "                return True\n",
    "    else:\n",
    "        return True"
   ]
  },
  {
   "cell_type": "code",
   "execution_count": 119,
   "id": "c58879c2",
   "metadata": {},
   "outputs": [
    {
     "data": {
      "text/plain": [
       "False"
      ]
     },
     "execution_count": 119,
     "metadata": {},
     "output_type": "execute_result"
    }
   ],
   "source": [
    "rule_out_case_4pt(16,6,2)"
   ]
  },
  {
   "cell_type": "markdown",
   "id": "d94092e6",
   "metadata": {},
   "source": [
    "##### Difference sets in dihedral groups."
   ]
  },
  {
   "cell_type": "code",
   "execution_count": 125,
   "id": "0fb382fc",
   "metadata": {},
   "outputs": [],
   "source": [
    "#remove_item_greater_than(l,n) removes items in a list l that is greater than n\n",
    "def remove_item_greater_than(l,n):\n",
    "    l2 = [x for x in l if x<=n]\n",
    "    l2.sort()\n",
    "    return l2\n",
    "\n",
    "#using second multiplier theorem to check the existence of (v,k,l)-difference set in Z_n\n",
    "def find_difference_set(v,k,l):\n",
    "    list1 = MultiplierTheorem2(v,k,l,v)\n",
    "    if not list1: \n",
    "        return(\"No multipliers for\",v,k,l)\n",
    "    t = list1[1] #skip multiplier 1\n",
    "    size = orbit_cyclic(v,t)[-1] #compute the length of each cyclc\n",
    "    size2 = remove_item_greater_than(size,k) #remove cycles greater than k to save computation time. Note size2 is sroted\n",
    "    for i in range(1,len(size2)+1):\n",
    "        if sum(size2[0:i+1]) > k:  #if the sum of i smallest cycles greater than k\n",
    "            continue                #then we don't need to check any other combinations of i cycles \n",
    "        combinations = itertools.combinations(size2,i)  \n",
    "        for j in combinations:\n",
    "            if sum(j) == k:\n",
    "                 return(v,k,l,\" possibly have a difference set\")\n",
    "    return(v,k,l,\" does not contain difference set\")\n",
    "\n",
    "\n",
    "#check status of the existence of difference sets to an upper bound v\n",
    "def dihedral_check(v):\n",
    "    list1 = parameter_search3(v)\n",
    "    for ch in list1:\n",
    "        v1,k,l = ch\n",
    "        if v1%2 != 0: #only check for even v\n",
    "            continue           \n",
    "        if not rule_out_case_4pt(v1,k,l): #check if ruled out by Turyn's\n",
    "            print(v1,k,l,\" rule out because Turyn's exponent bound\")\n",
    "            continue\n",
    "        result = find_difference_set(v1,k,l)\n",
    "        print(result)"
   ]
  },
  {
   "cell_type": "code",
   "execution_count": 126,
   "id": "87ecc155",
   "metadata": {},
   "outputs": [
    {
     "name": "stdout",
     "output_type": "stream",
     "text": [
      "16 6 2  rule out because Turyn's exponent bound\n",
      "36 15 6  rule out because Turyn's exponent bound\n",
      "(40, 13, 4, ' possibly have a difference set')\n",
      "(56, 11, 2, ' possibly have a difference set')\n",
      "64 28 12  rule out because Turyn's exponent bound\n",
      "('No multipliers for', 66, 26, 10)\n",
      "('No multipliers for', 70, 24, 8)\n",
      "('No multipliers for', 78, 22, 6)\n",
      "('No multipliers for', 96, 20, 4)\n",
      "100 45 20  rule out because Turyn's exponent bound\n",
      "(112, 37, 12, ' possibly have a difference set')\n",
      "('No multipliers for', 120, 35, 10)\n",
      "('No multipliers for', 144, 66, 30)\n",
      "('No multipliers for', 154, 18, 2)\n",
      "(156, 31, 6, ' possibly have a difference set')\n",
      "('No multipliers for', 160, 54, 18)\n",
      "('No multipliers for', 176, 50, 14)\n",
      "196 91 42  rule out because Turyn's exponent bound\n",
      "(204, 29, 4, ' does not contain difference set')\n",
      "('No multipliers for', 208, 46, 10)\n",
      "('No multipliers for', 210, 77, 28)\n",
      "(220, 73, 24, ' possibly have a difference set')\n",
      "256 120 56  rule out because Turyn's exponent bound\n",
      "('No multipliers for', 260, 112, 48)\n",
      "('No multipliers for', 266, 106, 42)\n",
      "('No multipliers for', 276, 100, 36)\n",
      "('No multipliers for', 280, 63, 14)\n",
      "('No multipliers for', 286, 96, 32)\n",
      "('No multipliers for', 288, 42, 6)\n",
      "('No multipliers for', 300, 92, 28)\n"
     ]
    }
   ],
   "source": [
    "dihedral_check(300)"
   ]
  },
  {
   "cell_type": "markdown",
   "id": "53e517a6",
   "metadata": {},
   "source": [
    "## 5. Classification of abelian difference sets with $v\\leq 50$."
   ]
  },
  {
   "cell_type": "code",
   "execution_count": 134,
   "id": "f6c5259e",
   "metadata": {},
   "outputs": [],
   "source": [
    "start = time.time() #start timer"
   ]
  },
  {
   "cell_type": "markdown",
   "id": "9a4a5f63",
   "metadata": {},
   "source": [
    "First check cyclic cases"
   ]
  },
  {
   "cell_type": "code",
   "execution_count": 135,
   "id": "c6ba08a1",
   "metadata": {},
   "outputs": [
    {
     "name": "stdout",
     "output_type": "stream",
     "text": [
      "The difference sets of parameter  7 3 1  are\n",
      "[[1, 2, 4]]\n",
      "The difference sets of parameter  11 5 2  are\n",
      "[[1, 3, 9, 5, 4]]\n",
      "The difference sets of parameter  13 4 1  are\n",
      "[[0, 1, 3, 9]]\n",
      "The difference sets of parameter  15 7 3  are\n",
      "[[0, 1, 2, 4, 8, 5, 10]]\n",
      "The difference sets of parameter  16 6 2  are\n",
      "No mutipliers\n",
      "The difference sets of parameter  19 9 4  are\n",
      "[[1, 4, 16, 7, 9, 17, 11, 6, 5]]\n",
      "The difference sets of parameter  21 5 1  are\n",
      "[[3, 6, 12, 7, 14]]\n",
      "The difference sets of parameter  23 11 5  are\n",
      "[[1, 2, 4, 8, 16, 9, 18, 13, 3, 6, 12]]\n",
      "The difference sets of parameter  25 9 3  are\n",
      "[]\n",
      "The difference sets of parameter  27 13 6  are\n",
      "[]\n",
      "The difference sets of parameter  31 6 1  are\n",
      "[[1, 5, 25, 11, 24, 27]]\n",
      "The difference sets of parameter  31 10 3  are\n",
      "[]\n",
      "The difference sets of parameter  31 15 7  are\n",
      "[[1, 2, 4, 8, 16, 3, 6, 12, 24, 17, 15, 30, 29, 27, 23], [1, 2, 4, 8, 16, 5, 10, 20, 9, 18, 7, 14, 28, 25, 19]]\n",
      "The difference sets of parameter  35 17 8  are\n",
      "[[0, 1, 3, 9, 27, 11, 33, 29, 17, 16, 13, 4, 12, 7, 21, 28, 14]]\n",
      "The difference sets of parameter  36 15 6  are\n",
      "No mutipliers\n",
      "The difference sets of parameter  37 9 2  are\n",
      "[[1, 7, 12, 10, 33, 9, 26, 34, 16]]\n",
      "The difference sets of parameter  39 19 9  are\n",
      "[]\n",
      "The difference sets of parameter  40 13 4  are\n",
      "[[0, 1, 3, 9, 27, 5, 15, 22, 26, 38, 34, 25, 35]]\n",
      "The difference sets of parameter  41 16 6  are\n",
      "[]\n",
      "The difference sets of parameter  43 21 10  are\n",
      "[[1, 4, 16, 21, 41, 35, 11, 2, 8, 32, 42, 39, 27, 22, 3, 12, 5, 20, 37, 19, 33], [1, 4, 16, 21, 41, 35, 11, 6, 24, 10, 40, 31, 38, 23, 9, 36, 15, 17, 25, 14, 13]]\n",
      "The difference sets of parameter  45 12 3  are\n",
      "No mutipliers\n",
      "The difference sets of parameter  47 23 11  are\n",
      "[[1, 2, 4, 8, 16, 32, 17, 34, 21, 42, 37, 27, 7, 14, 28, 9, 18, 36, 25, 3, 6, 12, 24]]\n",
      "The difference sets of parameter  49 16 5  are\n",
      "[]\n"
     ]
    }
   ],
   "source": [
    "list1 = parameter_search3(50) #list of valid parameters \n",
    "for ch in list1:\n",
    "    v,k,l = ch\n",
    "    print(\"The difference sets of parameter \",v,k,l,\" are\")\n",
    "    find_difference_set_explictly(v,k,l)  "
   ]
  },
  {
   "cell_type": "markdown",
   "id": "a1164687",
   "metadata": {},
   "source": [
    "Next check those cases can be written as direct product of cyclic groups.<br/>\n",
    "Note multiplier theorems does not apply to (16,6,2),(36,15,6) and (45,12,3) since n$\\mid$v"
   ]
  },
  {
   "cell_type": "code",
   "execution_count": 136,
   "id": "ebd7ba77",
   "metadata": {},
   "outputs": [],
   "source": [
    "find_difference_set_explictly_tuples(25,9,3,5,5,2) #(25,9,3) in Z_5 x Z_5"
   ]
  },
  {
   "cell_type": "code",
   "execution_count": 137,
   "id": "4afd5da6",
   "metadata": {},
   "outputs": [],
   "source": [
    "find_difference_set_explictly_tuples(27,13,6,9,3,7) #(27,13,6) in Z_9 x Z_3"
   ]
  },
  {
   "cell_type": "code",
   "execution_count": 138,
   "id": "1f7595ef",
   "metadata": {},
   "outputs": [],
   "source": [
    "find_difference_set_explictly_tuples(40,13,4,20,2,3) #(40,13,4) in Z_20 x Z_2"
   ]
  },
  {
   "cell_type": "code",
   "execution_count": 139,
   "id": "340b1dd0",
   "metadata": {},
   "outputs": [],
   "source": [
    "find_difference_set_explictly_tuples(49,16,5,7,7,11) #(49,16,5) in Z_7 x Z_7"
   ]
  },
  {
   "cell_type": "code",
   "execution_count": 140,
   "id": "599e344f",
   "metadata": {},
   "outputs": [],
   "source": [
    "find_difference_set_explictly_tuples_three(40,13,4,10,2,2,3)"
   ]
  },
  {
   "cell_type": "code",
   "execution_count": 141,
   "id": "34d5a520",
   "metadata": {},
   "outputs": [],
   "source": [
    "#find_difference_set_explictly_tuples_three(27,13,6,3,7)"
   ]
  },
  {
   "cell_type": "code",
   "execution_count": 142,
   "id": "3e8fb06b",
   "metadata": {},
   "outputs": [
    {
     "data": {
      "text/plain": [
       "1.9276750087738037"
      ]
     },
     "execution_count": 142,
     "metadata": {},
     "output_type": "execute_result"
    }
   ],
   "source": [
    "end = time.time()\n",
    "end - start"
   ]
  },
  {
   "cell_type": "markdown",
   "id": "744616ce",
   "metadata": {},
   "source": [
    "It is important to note, a straightforward running function may get into trouble. For example, (27,13,6) in $\\mathbb{Z}_3 \\times \\mathbb{Z}_3 \\times \\mathbb{Z}_3$ has a multiplier 7 but its orbits all have length 1. The computation is quite large compared with other cases."
   ]
  },
  {
   "cell_type": "code",
   "execution_count": 143,
   "id": "41d4eb80",
   "metadata": {},
   "outputs": [
    {
     "data": {
      "text/plain": [
       "[1, 4, 7, 10, 13, 16, 19, 22, 25]"
      ]
     },
     "execution_count": 143,
     "metadata": {},
     "output_type": "execute_result"
    }
   ],
   "source": [
    "MultiplierTheorem2(27,13,6,3)"
   ]
  },
  {
   "cell_type": "code",
   "execution_count": 145,
   "id": "5b34e438",
   "metadata": {},
   "outputs": [
    {
     "data": {
      "text/plain": [
       "([[(0, 0, 0)],\n",
       "  [(0, 0, 1)],\n",
       "  [(0, 0, 2)],\n",
       "  [(0, 1, 0)],\n",
       "  [(0, 1, 1)],\n",
       "  [(0, 1, 2)],\n",
       "  [(0, 2, 0)],\n",
       "  [(0, 2, 1)],\n",
       "  [(0, 2, 2)],\n",
       "  [(1, 0, 0)],\n",
       "  [(1, 0, 1)],\n",
       "  [(1, 0, 2)],\n",
       "  [(1, 1, 0)],\n",
       "  [(1, 1, 1)],\n",
       "  [(1, 1, 2)],\n",
       "  [(1, 2, 0)],\n",
       "  [(1, 2, 1)],\n",
       "  [(1, 2, 2)],\n",
       "  [(2, 0, 0)],\n",
       "  [(2, 0, 1)],\n",
       "  [(2, 0, 2)],\n",
       "  [(2, 1, 0)],\n",
       "  [(2, 1, 1)],\n",
       "  [(2, 1, 2)],\n",
       "  [(2, 2, 0)],\n",
       "  [(2, 2, 1)],\n",
       "  [(2, 2, 2)]],\n",
       " [1,\n",
       "  1,\n",
       "  1,\n",
       "  1,\n",
       "  1,\n",
       "  1,\n",
       "  1,\n",
       "  1,\n",
       "  1,\n",
       "  1,\n",
       "  1,\n",
       "  1,\n",
       "  1,\n",
       "  1,\n",
       "  1,\n",
       "  1,\n",
       "  1,\n",
       "  1,\n",
       "  1,\n",
       "  1,\n",
       "  1,\n",
       "  1,\n",
       "  1,\n",
       "  1,\n",
       "  1,\n",
       "  1,\n",
       "  1])"
      ]
     },
     "execution_count": 145,
     "metadata": {},
     "output_type": "execute_result"
    }
   ],
   "source": [
    "orbit_direct_sum_three(3,3,3,7)"
   ]
  },
  {
   "cell_type": "markdown",
   "id": "541271fe",
   "metadata": {},
   "source": [
    "Other multipliers give the same result since they are all in the group generated by 7. (Recall multipliers is a subgroup of automophism group)"
   ]
  },
  {
   "cell_type": "markdown",
   "id": "cc2cb235",
   "metadata": {},
   "source": [
    "Except for some exceptional cases, our program can work for difference sets with $v<500$."
   ]
  },
  {
   "cell_type": "code",
   "execution_count": 148,
   "id": "90bc6bfa",
   "metadata": {},
   "outputs": [
    {
     "name": "stdout",
     "output_type": "stream",
     "text": [
      "[[1, 4, 16, 64, 256, 26, 104, 416, 167, 169, 177, 209, 337, 350, 402, 111, 444, 279, 118, 472, 391, 67, 268, 74, 296, 186, 245, 481, 427, 211, 345, 382, 31, 124, 496, 487, 451, 307, 230, 421, 187, 249, 497, 491, 467, 371, 486, 447, 291, 166, 165, 161, 145, 81, 324, 298, 194, 277, 110, 440, 263, 54, 216, 365, 462, 351, 406, 127, 9, 36, 144, 77, 308, 234, 437, 251, 6, 24, 96, 384, 39, 156, 125, 5, 20, 80, 320, 282, 130, 21, 84, 336, 346, 386, 47, 188, 253, 14, 56, 224, 397, 91, 364, 458, 335, 342, 370, 482, 431, 227, 409, 139, 57, 228, 413, 155, 121, 484, 439, 259, 38, 152, 109, 436, 247, 489, 459, 339, 358, 434, 239, 457, 331, 326, 306, 226, 405, 123, 492, 471, 387, 51, 204, 317, 270, 82, 328, 314, 258, 34, 136, 45, 180, 221, 385, 43, 172, 189, 257, 30, 120, 480, 423, 195, 281, 126, 22, 88, 352, 410, 143, 73, 292, 170, 181, 225, 401, 107, 428, 215, 361, 446, 287, 150, 101, 404, 119, 476, 407, 131, 25, 100, 400, 103, 412, 151, 105, 420, 183, 233, 433, 235, 441, 267, 70, 280, 122, 488, 455, 323, 294, 178, 213, 353, 414, 159, 137, 49, 196, 285, 142, 69, 276, 106, 424, 199, 297, 190, 261, 46, 184, 237, 449, 299, 198, 293, 174, 197, 289, 158, 133, 33, 132, 29, 116, 464, 359, 438, 255]]\n"
     ]
    }
   ],
   "source": [
    "start = time.time()\n",
    "find_difference_set_explictly(499,249,124)\n",
    "end = time.time()"
   ]
  },
  {
   "cell_type": "code",
   "execution_count": 149,
   "id": "42bac8f7",
   "metadata": {},
   "outputs": [
    {
     "data": {
      "text/plain": [
       "1.2998912334442139"
      ]
     },
     "execution_count": 149,
     "metadata": {},
     "output_type": "execute_result"
    }
   ],
   "source": [
    "end-start"
   ]
  },
  {
   "cell_type": "markdown",
   "id": "fd360357",
   "metadata": {},
   "source": [
    "## 6. Contribution in coding part"
   ]
  },
  {
   "cell_type": "markdown",
   "id": "b552a40f",
   "metadata": {},
   "source": [
    "**Samuel Hudson** wrote the code for checking the basic equations to see what group orders could possibly contain difference sets, the code for the Bruck Ryser Chowla theorem, and the code for the first and second multiplier theorems. \n",
    "\n",
    "**Lijun Zou** involved in revising the code for BRC theorem and the second multiplier theorem, wrote other parts which are not coverd above, and tidied up the code."
   ]
  },
  {
   "cell_type": "code",
   "execution_count": null,
   "id": "cb9a08f2",
   "metadata": {},
   "outputs": [],
   "source": []
  }
 ],
 "metadata": {
  "kernelspec": {
   "display_name": "Python 3",
   "language": "python",
   "name": "python3"
  },
  "language_info": {
   "codemirror_mode": {
    "name": "ipython",
    "version": 3
   },
   "file_extension": ".py",
   "mimetype": "text/x-python",
   "name": "python",
   "nbconvert_exporter": "python",
   "pygments_lexer": "ipython3",
   "version": "3.8.8"
  }
 },
 "nbformat": 4,
 "nbformat_minor": 5
}
